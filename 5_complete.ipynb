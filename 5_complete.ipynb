{
 "cells": [
  {
   "cell_type": "code",
   "execution_count": 2,
   "metadata": {},
   "outputs": [],
   "source": [
    "%load_ext autoreload\n",
    "%load_ext watermark"
   ]
  },
  {
   "cell_type": "code",
   "execution_count": 3,
   "metadata": {},
   "outputs": [],
   "source": [
    "%autoreload 2"
   ]
  },
  {
   "cell_type": "code",
   "execution_count": 4,
   "metadata": {},
   "outputs": [
    {
     "name": "stdout",
     "output_type": "stream",
     "text": [
      "Fri Aug 05 2022 11:07:36 India Standard Time \n",
      "\n",
      "matplotlib 3.2.1\n",
      "numpy 1.18.5\n",
      "pandas 1.0.4\n",
      "scipy 1.4.1\n"
     ]
    }
   ],
   "source": [
    "%watermark -ntz -p matplotlib,numpy,pandas,scipy"
   ]
  },
  {
   "cell_type": "code",
   "execution_count": 5,
   "metadata": {},
   "outputs": [],
   "source": [
    "import datetime\n",
    "import math\n",
    "from pathlib import Path\n",
    "from typing import List, Tuple\n",
    "\n",
    "import matplotlib.pyplot as plt\n",
    "import numpy as np\n",
    "import pandas as pd\n",
    "import scipy.stats as stats"
   ]
  },
  {
   "cell_type": "markdown",
   "metadata": {},
   "source": [
    "---\n",
    "# Exercise 5: Explore Correlations\n",
    "In previous exercises,\n",
    "you have investigated weather and traffic data separately.\n",
    "In this exercise,\n",
    "you will combine the datasets\n",
    "and investigate correlations between them.\n",
    "\n",
    "## Learning objectives\n",
    "Objectives which _may_ be met during this exercise.\n",
    "\n",
    "_Refer to the [exercise document](../references/exercise_background.md#development-objectives) for more information on objectives_\n"
   ]
  },
  {
   "cell_type": "markdown",
   "metadata": {},
   "source": [
    "---\n",
    "## Step 1: Load data\n",
    "\n",
    "**Tasks:**\n",
    "- Load traffic data\n",
    "- Add columns for `month`, `weekday`, `hour`\n",
    "- Turn `Date` column into date only (no time)\n",
    "- Repeat with weather data"
   ]
  },
  {
   "cell_type": "code",
   "execution_count": 6,
   "metadata": {},
   "outputs": [],
   "source": [
    "#data_path = None  # TODO\n",
    "#traffic_data_path = None\n",
    "#weather_data_path = None\n",
    "\n",
    "traffic_data_path = Path.cwd().resolve().parent /'analysis' / \"data\" / \"interim\" / \"counter_data.csv\"\n",
    "weather_data_path = Path.cwd().resolve().parent /'analysis'/ \"data\" / \"interim\" / \"weather_data_i.csv\""
   ]
  },
  {
   "cell_type": "code",
   "execution_count": 7,
   "metadata": {},
   "outputs": [
    {
     "data": {
      "text/html": [
       "<div>\n",
       "<style scoped>\n",
       "    .dataframe tbody tr th:only-of-type {\n",
       "        vertical-align: middle;\n",
       "    }\n",
       "\n",
       "    .dataframe tbody tr th {\n",
       "        vertical-align: top;\n",
       "    }\n",
       "\n",
       "    .dataframe thead th {\n",
       "        text-align: right;\n",
       "    }\n",
       "</style>\n",
       "<table border=\"1\" class=\"dataframe\">\n",
       "  <thead>\n",
       "    <tr style=\"text-align: right;\">\n",
       "      <th></th>\n",
       "      <th>Date</th>\n",
       "      <th>Hour Ending</th>\n",
       "      <th>Special day</th>\n",
       "      <th>Counter ID</th>\n",
       "      <th>Counts</th>\n",
       "      <th>Month</th>\n",
       "      <th>Day</th>\n",
       "      <th>Weekday</th>\n",
       "      <th>Hour</th>\n",
       "    </tr>\n",
       "  </thead>\n",
       "  <tbody>\n",
       "    <tr>\n",
       "      <th>count</th>\n",
       "      <td>186624</td>\n",
       "      <td>186624.000000</td>\n",
       "      <td>45120</td>\n",
       "      <td>186624.000000</td>\n",
       "      <td>186624.000000</td>\n",
       "      <td>186624.000000</td>\n",
       "      <td>186624.000000</td>\n",
       "      <td>186624.000000</td>\n",
       "      <td>186624.000000</td>\n",
       "    </tr>\n",
       "    <tr>\n",
       "      <th>unique</th>\n",
       "      <td>365</td>\n",
       "      <td>NaN</td>\n",
       "      <td>4</td>\n",
       "      <td>NaN</td>\n",
       "      <td>NaN</td>\n",
       "      <td>NaN</td>\n",
       "      <td>NaN</td>\n",
       "      <td>NaN</td>\n",
       "      <td>NaN</td>\n",
       "    </tr>\n",
       "    <tr>\n",
       "      <th>top</th>\n",
       "      <td>2019-07-02</td>\n",
       "      <td>NaN</td>\n",
       "      <td>o</td>\n",
       "      <td>NaN</td>\n",
       "      <td>NaN</td>\n",
       "      <td>NaN</td>\n",
       "      <td>NaN</td>\n",
       "      <td>NaN</td>\n",
       "      <td>NaN</td>\n",
       "    </tr>\n",
       "    <tr>\n",
       "      <th>freq</th>\n",
       "      <td>576</td>\n",
       "      <td>NaN</td>\n",
       "      <td>40416</td>\n",
       "      <td>NaN</td>\n",
       "      <td>NaN</td>\n",
       "      <td>NaN</td>\n",
       "      <td>NaN</td>\n",
       "      <td>NaN</td>\n",
       "      <td>NaN</td>\n",
       "    </tr>\n",
       "    <tr>\n",
       "      <th>mean</th>\n",
       "      <td>NaN</td>\n",
       "      <td>12.500000</td>\n",
       "      <td>NaN</td>\n",
       "      <td>44059.051569</td>\n",
       "      <td>116.501983</td>\n",
       "      <td>6.636574</td>\n",
       "      <td>15.743699</td>\n",
       "      <td>3.002829</td>\n",
       "      <td>11.500000</td>\n",
       "    </tr>\n",
       "    <tr>\n",
       "      <th>std</th>\n",
       "      <td>NaN</td>\n",
       "      <td>6.922205</td>\n",
       "      <td>NaN</td>\n",
       "      <td>13443.770875</td>\n",
       "      <td>181.584278</td>\n",
       "      <td>3.381432</td>\n",
       "      <td>8.760233</td>\n",
       "      <td>2.000775</td>\n",
       "      <td>6.922205</td>\n",
       "    </tr>\n",
       "    <tr>\n",
       "      <th>min</th>\n",
       "      <td>NaN</td>\n",
       "      <td>1.000000</td>\n",
       "      <td>NaN</td>\n",
       "      <td>20011.000000</td>\n",
       "      <td>0.000000</td>\n",
       "      <td>1.000000</td>\n",
       "      <td>1.000000</td>\n",
       "      <td>0.000000</td>\n",
       "      <td>0.000000</td>\n",
       "    </tr>\n",
       "    <tr>\n",
       "      <th>25%</th>\n",
       "      <td>NaN</td>\n",
       "      <td>6.750000</td>\n",
       "      <td>NaN</td>\n",
       "      <td>30023.000000</td>\n",
       "      <td>8.000000</td>\n",
       "      <td>4.000000</td>\n",
       "      <td>8.000000</td>\n",
       "      <td>1.000000</td>\n",
       "      <td>5.750000</td>\n",
       "    </tr>\n",
       "    <tr>\n",
       "      <th>50%</th>\n",
       "      <td>NaN</td>\n",
       "      <td>12.500000</td>\n",
       "      <td>NaN</td>\n",
       "      <td>50011.000000</td>\n",
       "      <td>49.000000</td>\n",
       "      <td>7.000000</td>\n",
       "      <td>16.000000</td>\n",
       "      <td>3.000000</td>\n",
       "      <td>11.500000</td>\n",
       "    </tr>\n",
       "    <tr>\n",
       "      <th>75%</th>\n",
       "      <td>NaN</td>\n",
       "      <td>18.250000</td>\n",
       "      <td>NaN</td>\n",
       "      <td>50077.000000</td>\n",
       "      <td>137.000000</td>\n",
       "      <td>10.000000</td>\n",
       "      <td>23.000000</td>\n",
       "      <td>5.000000</td>\n",
       "      <td>17.250000</td>\n",
       "    </tr>\n",
       "    <tr>\n",
       "      <th>max</th>\n",
       "      <td>NaN</td>\n",
       "      <td>24.000000</td>\n",
       "      <td>NaN</td>\n",
       "      <td>60006.000000</td>\n",
       "      <td>1298.000000</td>\n",
       "      <td>12.000000</td>\n",
       "      <td>31.000000</td>\n",
       "      <td>6.000000</td>\n",
       "      <td>23.000000</td>\n",
       "    </tr>\n",
       "  </tbody>\n",
       "</table>\n",
       "</div>"
      ],
      "text/plain": [
       "              Date    Hour Ending Special day     Counter ID         Counts  \\\n",
       "count       186624  186624.000000       45120  186624.000000  186624.000000   \n",
       "unique         365            NaN           4            NaN            NaN   \n",
       "top     2019-07-02            NaN           o            NaN            NaN   \n",
       "freq           576            NaN       40416            NaN            NaN   \n",
       "mean           NaN      12.500000         NaN   44059.051569     116.501983   \n",
       "std            NaN       6.922205         NaN   13443.770875     181.584278   \n",
       "min            NaN       1.000000         NaN   20011.000000       0.000000   \n",
       "25%            NaN       6.750000         NaN   30023.000000       8.000000   \n",
       "50%            NaN      12.500000         NaN   50011.000000      49.000000   \n",
       "75%            NaN      18.250000         NaN   50077.000000     137.000000   \n",
       "max            NaN      24.000000         NaN   60006.000000    1298.000000   \n",
       "\n",
       "                Month            Day        Weekday           Hour  \n",
       "count   186624.000000  186624.000000  186624.000000  186624.000000  \n",
       "unique            NaN            NaN            NaN            NaN  \n",
       "top               NaN            NaN            NaN            NaN  \n",
       "freq              NaN            NaN            NaN            NaN  \n",
       "mean         6.636574      15.743699       3.002829      11.500000  \n",
       "std          3.381432       8.760233       2.000775       6.922205  \n",
       "min          1.000000       1.000000       0.000000       0.000000  \n",
       "25%          4.000000       8.000000       1.000000       5.750000  \n",
       "50%          7.000000      16.000000       3.000000      11.500000  \n",
       "75%         10.000000      23.000000       5.000000      17.250000  \n",
       "max         12.000000      31.000000       6.000000      23.000000  "
      ]
     },
     "execution_count": 7,
     "metadata": {},
     "output_type": "execute_result"
    }
   ],
   "source": [
    "\n",
    "traffic_df = pd.read_csv(traffic_data_path)\n",
    "\n",
    "traffic_df[\"Date\" ] = pd.to_datetime(traffic_df[\"Date\"])\n",
    "\n",
    "#Original time is end of a timespan, subtract 1 hour to get start of period. \n",
    "#This reduces drawing artifacts where the last hour of each day has next days date.\n",
    "traffic_df[\"Date\"] = traffic_df[\"Date\"] - pd.Timedelta(hours=1)\n",
    "\n",
    "# TODO add month, weekday, hour columns\n",
    "# TODO turn \"Date\" column into date only (i.e. year, month, day)\n",
    "traffic_df['Month'] = traffic_df['Date'].apply(lambda x: x.month)\n",
    "traffic_df['Day'] = traffic_df['Date'].apply(lambda x: x.day)\n",
    "traffic_df['Weekday'] = traffic_df['Date'].apply(lambda x: x.dayofweek)\n",
    "traffic_df[\"Hour\"] = traffic_df[\"Date\"].apply(lambda x: x.hour)\n",
    "traffic_df['Date'] = traffic_df['Date'].apply(lambda d: d.date())\n",
    "traffic_df.describe(include=[\"object\", \"int64\", \"datetime64[ns]\"])"
   ]
  },
  {
   "cell_type": "code",
   "execution_count": 23,
   "metadata": {},
   "outputs": [
    {
     "data": {
      "text/html": [
       "<div>\n",
       "<style scoped>\n",
       "    .dataframe tbody tr th:only-of-type {\n",
       "        vertical-align: middle;\n",
       "    }\n",
       "\n",
       "    .dataframe tbody tr th {\n",
       "        vertical-align: top;\n",
       "    }\n",
       "\n",
       "    .dataframe thead th {\n",
       "        text-align: right;\n",
       "    }\n",
       "</style>\n",
       "<table border=\"1\" class=\"dataframe\">\n",
       "  <thead>\n",
       "    <tr style=\"text-align: right;\">\n",
       "      <th></th>\n",
       "      <th>Date</th>\n",
       "      <th>Hour Ending</th>\n",
       "      <th>Special day</th>\n",
       "      <th>Counter ID</th>\n",
       "      <th>Counts</th>\n",
       "      <th>Month</th>\n",
       "      <th>Day</th>\n",
       "      <th>Weekday</th>\n",
       "      <th>Hour</th>\n",
       "    </tr>\n",
       "  </thead>\n",
       "  <tbody>\n",
       "    <tr>\n",
       "      <th>0</th>\n",
       "      <td>2019-01-01</td>\n",
       "      <td>1</td>\n",
       "      <td>bo</td>\n",
       "      <td>20011</td>\n",
       "      <td>12</td>\n",
       "      <td>1</td>\n",
       "      <td>1</td>\n",
       "      <td>1</td>\n",
       "      <td>0</td>\n",
       "    </tr>\n",
       "    <tr>\n",
       "      <th>1</th>\n",
       "      <td>2019-01-01</td>\n",
       "      <td>2</td>\n",
       "      <td>bo</td>\n",
       "      <td>20011</td>\n",
       "      <td>10</td>\n",
       "      <td>1</td>\n",
       "      <td>1</td>\n",
       "      <td>1</td>\n",
       "      <td>1</td>\n",
       "    </tr>\n",
       "    <tr>\n",
       "      <th>2</th>\n",
       "      <td>2019-01-01</td>\n",
       "      <td>3</td>\n",
       "      <td>bo</td>\n",
       "      <td>20011</td>\n",
       "      <td>2</td>\n",
       "      <td>1</td>\n",
       "      <td>1</td>\n",
       "      <td>1</td>\n",
       "      <td>2</td>\n",
       "    </tr>\n",
       "    <tr>\n",
       "      <th>3</th>\n",
       "      <td>2019-01-01</td>\n",
       "      <td>4</td>\n",
       "      <td>bo</td>\n",
       "      <td>20011</td>\n",
       "      <td>8</td>\n",
       "      <td>1</td>\n",
       "      <td>1</td>\n",
       "      <td>1</td>\n",
       "      <td>3</td>\n",
       "    </tr>\n",
       "    <tr>\n",
       "      <th>4</th>\n",
       "      <td>2019-01-01</td>\n",
       "      <td>5</td>\n",
       "      <td>bo</td>\n",
       "      <td>20011</td>\n",
       "      <td>2</td>\n",
       "      <td>1</td>\n",
       "      <td>1</td>\n",
       "      <td>1</td>\n",
       "      <td>4</td>\n",
       "    </tr>\n",
       "    <tr>\n",
       "      <th>...</th>\n",
       "      <td>...</td>\n",
       "      <td>...</td>\n",
       "      <td>...</td>\n",
       "      <td>...</td>\n",
       "      <td>...</td>\n",
       "      <td>...</td>\n",
       "      <td>...</td>\n",
       "      <td>...</td>\n",
       "      <td>...</td>\n",
       "    </tr>\n",
       "    <tr>\n",
       "      <th>186619</th>\n",
       "      <td>2019-12-31</td>\n",
       "      <td>20</td>\n",
       "      <td>o</td>\n",
       "      <td>60006</td>\n",
       "      <td>6</td>\n",
       "      <td>12</td>\n",
       "      <td>31</td>\n",
       "      <td>1</td>\n",
       "      <td>19</td>\n",
       "    </tr>\n",
       "    <tr>\n",
       "      <th>186620</th>\n",
       "      <td>2019-12-31</td>\n",
       "      <td>21</td>\n",
       "      <td>o</td>\n",
       "      <td>60006</td>\n",
       "      <td>6</td>\n",
       "      <td>12</td>\n",
       "      <td>31</td>\n",
       "      <td>1</td>\n",
       "      <td>20</td>\n",
       "    </tr>\n",
       "    <tr>\n",
       "      <th>186621</th>\n",
       "      <td>2019-12-31</td>\n",
       "      <td>22</td>\n",
       "      <td>o</td>\n",
       "      <td>60006</td>\n",
       "      <td>2</td>\n",
       "      <td>12</td>\n",
       "      <td>31</td>\n",
       "      <td>1</td>\n",
       "      <td>21</td>\n",
       "    </tr>\n",
       "    <tr>\n",
       "      <th>186622</th>\n",
       "      <td>2019-12-31</td>\n",
       "      <td>23</td>\n",
       "      <td>o</td>\n",
       "      <td>60006</td>\n",
       "      <td>0</td>\n",
       "      <td>12</td>\n",
       "      <td>31</td>\n",
       "      <td>1</td>\n",
       "      <td>22</td>\n",
       "    </tr>\n",
       "    <tr>\n",
       "      <th>186623</th>\n",
       "      <td>2019-12-31</td>\n",
       "      <td>24</td>\n",
       "      <td>o</td>\n",
       "      <td>60006</td>\n",
       "      <td>4</td>\n",
       "      <td>12</td>\n",
       "      <td>31</td>\n",
       "      <td>1</td>\n",
       "      <td>23</td>\n",
       "    </tr>\n",
       "  </tbody>\n",
       "</table>\n",
       "<p>186624 rows × 9 columns</p>\n",
       "</div>"
      ],
      "text/plain": [
       "              Date  Hour Ending Special day  Counter ID  Counts  Month  Day  \\\n",
       "0       2019-01-01            1          bo       20011      12      1    1   \n",
       "1       2019-01-01            2          bo       20011      10      1    1   \n",
       "2       2019-01-01            3          bo       20011       2      1    1   \n",
       "3       2019-01-01            4          bo       20011       8      1    1   \n",
       "4       2019-01-01            5          bo       20011       2      1    1   \n",
       "...            ...          ...         ...         ...     ...    ...  ...   \n",
       "186619  2019-12-31           20           o       60006       6     12   31   \n",
       "186620  2019-12-31           21           o       60006       6     12   31   \n",
       "186621  2019-12-31           22           o       60006       2     12   31   \n",
       "186622  2019-12-31           23           o       60006       0     12   31   \n",
       "186623  2019-12-31           24           o       60006       4     12   31   \n",
       "\n",
       "        Weekday  Hour  \n",
       "0             1     0  \n",
       "1             1     1  \n",
       "2             1     2  \n",
       "3             1     3  \n",
       "4             1     4  \n",
       "...         ...   ...  \n",
       "186619        1    19  \n",
       "186620        1    20  \n",
       "186621        1    21  \n",
       "186622        1    22  \n",
       "186623        1    23  \n",
       "\n",
       "[186624 rows x 9 columns]"
      ]
     },
     "execution_count": 23,
     "metadata": {},
     "output_type": "execute_result"
    }
   ],
   "source": [
    "traffic_df"
   ]
  },
  {
   "cell_type": "markdown",
   "metadata": {},
   "source": [
    "Load weather data"
   ]
  },
  {
   "cell_type": "code",
   "execution_count": 15,
   "metadata": {},
   "outputs": [],
   "source": [
    "#weather_df = None\n",
    "weather_df = pd.read_csv(weather_data_path)\n",
    "weather_df[\"Date\"] = pd.to_datetime(weather_df[\"Date\"])\n",
    "weather_df[\"Month\"] = weather_df[\"Date\"].apply(lambda d: d.month)\n",
    "weather_df[\"Day\"] = weather_df[\"Date\"].apply(lambda d: d.weekday)\n",
    "weather_df[\"Hour\"] = weather_df[\"Date\"].apply(lambda d: d.hour)\n",
    "weather_df[\"Date\"] = weather_df[\"Date\"].apply(lambda d: d.date())"
   ]
  },
  {
   "cell_type": "code",
   "execution_count": 16,
   "metadata": {},
   "outputs": [
    {
     "data": {
      "text/plain": [
       "0      <built-in method weekday of Timestamp object a...\n",
       "1      <built-in method weekday of Timestamp object a...\n",
       "2      <built-in method weekday of Timestamp object a...\n",
       "3      <built-in method weekday of Timestamp object a...\n",
       "4      <built-in method weekday of Timestamp object a...\n",
       "                             ...                        \n",
       "360    <built-in method weekday of Timestamp object a...\n",
       "361    <built-in method weekday of Timestamp object a...\n",
       "362    <built-in method weekday of Timestamp object a...\n",
       "363    <built-in method weekday of Timestamp object a...\n",
       "364    <built-in method weekday of Timestamp object a...\n",
       "Name: Day, Length: 365, dtype: object"
      ]
     },
     "execution_count": 16,
     "metadata": {},
     "output_type": "execute_result"
    }
   ],
   "source": [
    "weather_df['Day']"
   ]
  },
  {
   "cell_type": "markdown",
   "metadata": {},
   "source": [
    "---\n",
    "## Step 2: Calculate monthly correlations\n",
    "We have provided a shell of a function\n",
    "which calculated Pearson correlation\n",
    "between rainfall/temperature\n",
    "and traffic count,\n",
    "for a particular month.\n",
    "\n",
    "**Tasks:**\n",
    "- Complete function `get_pearson`\n",
    "- Add a boolean hyperparam (default `False`) called `weekend_only`,\n",
    "which only includes data from Friday, Saturday, Sunday if `True`\n",
    "- For all counters,\n",
    "plot _significant_ (p < 0.05) correlations against month,\n",
    "for both rainfall and temperature\n",
    "- What do you notice about the correlations over rainfall and temperature to traffic? What should we do about that?\n",
    "- Are certain months more strongly correlated with a weather pattern?\n",
    "- Are certain counting stations more strongly correlated?\n",
    "- How do correlations change if we only include weekends?\n",
    "- **\\[Extension]** Is it valid to perform many correlation checks in this way? What do we have to be careful of? What would be a more robust method?"
   ]
  },
  {
   "cell_type": "code",
   "execution_count": null,
   "metadata": {},
   "outputs": [],
   "source": []
  },
  {
   "cell_type": "code",
   "execution_count": 17,
   "metadata": {},
   "outputs": [],
   "source": [
    "def get_pearson(\n",
    "    month_indices: List[int],\n",
    "    counters: List[int],\n",
    "    col_name: str,\n",
    "    weekend_only=False,\n",
    ") -> Tuple[float, float, pd.DataFrame]:\n",
    "    \"\"\"\n",
    "    Get Pearson's coefficient between traffic count and the specified weather variable\n",
    "    \n",
    "    Parameters\n",
    "    ----------\n",
    "    month_index: list of ints\n",
    "        The index of the month (1-indexed)\n",
    "    counter: list of ints\n",
    "        The ID of the counter to track (0-indexed)\n",
    "    col_name: str\n",
    "        The name of the weather column to get the coefficient for\n",
    "    \"\"\"\n",
    "    # Filter traffic data on month, counters and potentially day of week\n",
    "    selected_df = traffic_df.loc[(traffic_df[\"Month\"].isin(month_indices)) & (traffic_df[\"Counter ID\"].isin(counters))]\n",
    "    if weekend_only:\n",
    "        selected_df = selected_df.loc[selected_df[\"Weekday\"].isin([4, 5, 6])]\n",
    "    \n",
    "    # TODO Sum the counts for all counters\n",
    "    aggregate_df = None\n",
    "    aggregate_df = pd.DataFrame()\n",
    "    # We need an univariate analysis to check for outliers?\n",
    "    aggregate_df = selected_df.groupby(['Date','Counter ID'],as_index=False).agg({'Counts': ['sum','mean']})\n",
    "\n",
    "    # Merge weather and aggregated traffic data\n",
    "    combined_df = weather_df.merge(aggregate_df, on=\"Date\",how = 'right')\n",
    "    \n",
    "    # TODO Remove any rows with NaNs in weather feature column or traffic counts column\n",
    "    combined_df.dropna(subset=[col_name, ('Counts','sum')], inplace=True)\n",
    "    \n",
    "    # TODO Get Pearson's coefficient\n",
    "    # sort it on date, peasron corre @ counter ID level :\n",
    "    # Hint use `scipy.stats`\n",
    "    r, p = (None, None)\n",
    "    if len(combined_df) >= 2:\n",
    "        r, p = stats.pearsonr(combined_df[col_name], combined_df['Counts'])\n",
    "    else:\n",
    "        r = 0.0\n",
    "        p = 10.0\n",
    "\n",
    "    return r, p, combined_df"
   ]
  },
  {
   "cell_type": "code",
   "execution_count": 19,
   "metadata": {
    "scrolled": true
   },
   "outputs": [
    {
     "name": "stdout",
     "output_type": "stream",
     "text": [
      "Pearson for Rainfall\n"
     ]
    }
   ],
   "source": [
    "# TODO plot correlations against month for all counters where p < 0.05\n",
    "print('Pearson for Rainfall')\n",
    "significant_r = []\n",
    "significant_counters = []\n",
    "significant_months = []\n",
    "\n",
    "for counter in traffic_df[\"Counter ID\"].unique():\n",
    "    for month in range(1, 13):\n",
    "        r, p, _ = get_pearson([month], [counter], 'MaxApparentTemp (degC)', weekend_only=True)\n",
    "        if p < 0.05:\n",
    "            significant_r.append(r)\n",
    "            significant_counters.append(counter)\n",
    "            significant_months.append(month)\n",
    "\n",
    "#plt.scatter(significant_months, significant_r)\n",
    "        \n",
    "    \n",
    "#print('\\nPearson for Max Apparent Temp')\n",
    "#for i in range(12):\n",
    "    #r, p, comb_df = get_pearson([i+1], counters, 'MaxApparentTemp (degC)', weekend_only=False)\n",
    "    #print(f\"Month {i + 1}: r = {r}, p = {p}\")\"\"\""
   ]
  },
  {
   "cell_type": "code",
   "execution_count": 20,
   "metadata": {
    "scrolled": true
   },
   "outputs": [
    {
     "name": "stdout",
     "output_type": "stream",
     "text": [
      "[-0.5896350347124324, 0.8438159441608688, 0.8353859205193981, 0.7396367013884553, 0.5863679236218747, 0.5521195378179498, 0.5999778538085088, 0.8333841419881811, 0.6511876228773089, 0.6915660313087809, 0.6821518403654026, 0.6025716296674901, 0.7789334538115995, 0.533338047233686, 0.7912291940457847, 0.7615700191196838, 0.7787705039630753, 0.5532394705182933, 0.8083196633421768, 0.79621305220909, 0.7566176135900036, 0.5934844167594866, -0.9995036813410716, 0.5824597712345758, -0.9994302961611992, 0.6214074796067133, 0.735447476691248, 0.7130421990104975, 0.5907055291536836, 0.6951727372635719, 0.6728792293892418, 0.6104504814148481, -0.8042854179017602, 0.7357183689619476, 0.7054059549114523, 0.7606651483525605, 0.7552955588684978, 0.6768233194328583, -0.9993195094764538, 0.7214771032420428, 0.6741818347165811, -0.5996840107516971, 0.8144911027850955, 0.5636426780518609, 0.59755943052621, 0.6743909421837553, 0.6650548149689788, 0.6790460102074514, 0.8547575801479927, 0.5392197814137729, 0.7293208416039508, 0.7732155108253352, 0.7880221562399139, 0.7237247755376591, 0.6628278588018806, 0.6794648225428047, 0.5757128002667559, -0.6620681509937455, 0.7625450113850005, 0.7101464153727822, 0.6895388214237536, 0.6330560319676073, -0.5776714360320737, 0.5841345825053156, 0.6969562986228757, 0.5368880187019052, 0.6941633933452533, 0.879443944324648, 0.6019071388958684, 0.7454028951559387, 0.8723671800905435, 0.8143555168395611, 0.7264406255066824, 0.7621789423871315] [20011, 20012, 20053, 20053, 20053, 20053, 20053, 20054, 20054, 20054, 20054, 20054, 30021, 30021, 30021, 30021, 30021, 30022, 30022, 30022, 30022, 30023, 30023, 30024, 30024, 50003, 50003, 50004, 50004, 50004, 50009, 50009, 50010, 50010, 50010, 50010, 50011, 50011, 50012, 50012, 50012, 50043, 50043, 50043, 50044, 50053, 50053, 50053, 50054, 50054, 50054, 50054, 50077, 50077, 50077, 50078, 50078, 60003, 60003, 60003, 60003, 60003, 60004, 60004, 60004, 60004, 60004, 60005, 60005, 60005, 60005, 60006, 60006, 60006] [1, 3, 2, 3, 4, 6, 10, 2, 3, 4, 6, 10, 2, 3, 4, 6, 8, 3, 4, 6, 8, 3, 4, 3, 4, 3, 12, 2, 9, 12, 3, 12, 1, 2, 6, 8, 6, 8, 1, 6, 8, 1, 2, 8, 8, 2, 3, 8, 2, 3, 6, 8, 2, 6, 8, 3, 12, 1, 3, 4, 6, 8, 1, 2, 4, 6, 8, 2, 3, 4, 8, 2, 4, 8]\n"
     ]
    }
   ],
   "source": [
    "print(significant_r,significant_counters,significant_months)"
   ]
  },
  {
   "cell_type": "code",
   "execution_count": 22,
   "metadata": {
    "scrolled": true
   },
   "outputs": [
    {
     "name": "stdout",
     "output_type": "stream",
     "text": [
      "Month 1: r = 0.07705076217093994, p = 0.6803508153003891\n",
      "Month 2: r = 0.20637249468885854, p = 0.4267915152845328\n",
      "Month 3: r = 0.22208781230926236, p = 0.3084448440954695\n",
      "Month 4: r = 0.4316520808110333, p = 0.01722799288309277\n",
      "Month 5: r = 0.16511776273130374, p = 0.3747170020413771\n",
      "Month 6: r = 0.35612653911982883, p = 0.05341310416848148\n",
      "Month 7: r = 0.9323268577674533, p = 0.020917031983071165\n",
      "Month 8: r = -0.9776407723017847, p = 0.13487643093929141\n",
      "Month 9: r = 0.0, p = 10.0\n",
      "Month 10: r = -0.46072622067200925, p = 0.11309250492594278\n",
      "Month 11: r = 0.09338026364833815, p = 0.6235632443440109\n",
      "Month 12: r = -0.053254323259693745, p = 0.7760083578389815\n"
     ]
    }
   ],
   "source": [
    "for i in range(12):\n",
    "    r, p, comb_df = get_pearson([i+1], [counters], 'MaxApparentTemp (degC)', weekend_only=False)\n",
    "    print(f\"Month {i + 1}: r = {r}, p = {p}\")"
   ]
  },
  {
   "cell_type": "code",
   "execution_count": 25,
   "metadata": {
    "scrolled": true
   },
   "outputs": [
    {
     "name": "stdout",
     "output_type": "stream",
     "text": [
      "Pearson for Rainfall\n"
     ]
    },
    {
     "name": "stderr",
     "output_type": "stream",
     "text": [
      "C:\\Users\\ANIRUPAD\\Anaconda3\\envs\\traffic-exercise-dev-test\\lib\\site-packages\\scipy\\stats\\stats.py:3508: PearsonRConstantInputWarning: An input array is constant; the correlation coefficent is not defined.\n",
      "  warnings.warn(PearsonRConstantInputWarning())\n"
     ]
    },
    {
     "data": {
      "text/plain": [
       "<matplotlib.collections.PathCollection at 0x2c0216d3248>"
      ]
     },
     "execution_count": 25,
     "metadata": {},
     "output_type": "execute_result"
    },
    {
     "data": {
      "image/png": "[encoded data removed]",
      "text/plain": [
       "<Figure size 432x288 with 1 Axes>"
      ]
     },
     "metadata": {
      "needs_background": "light"
     },
     "output_type": "display_data"
    }
   ],
   "source": [
    "# TODO plot correlations against month for all counters where p < 0.05\n",
    "print('Pearson for Rainfall')\n",
    "significant_r = []\n",
    "significant_counters = []\n",
    "significant_months = []\n",
    "\n",
    "for counter in traffic_df[\"Counter ID\"].unique():\n",
    "    for month in range(1, 13):\n",
    "        r, p, _ = get_pearson([month], [counter], 'Rainfall (mm)', weekend_only=False)\n",
    "        if p < 0.05:\n",
    "            significant_r.append(r)\n",
    "            significant_counters.append(counter)\n",
    "            significant_months.append(month)\n",
    "\n",
    "plt.scatter(significant_months, significant_r)"
   ]
  },
  {
   "cell_type": "code",
   "execution_count": 29,
   "metadata": {},
   "outputs": [
    {
     "name": "stdout",
     "output_type": "stream",
     "text": [
      "Pearson for Rainfall\n"
     ]
    },
    {
     "data": {
      "text/plain": [
       "<matplotlib.collections.PathCollection at 0x2c021a519c8>"
      ]
     },
     "execution_count": 29,
     "metadata": {},
     "output_type": "execute_result"
    },
    {
     "data": {
      "image/png": "[encoded data removed]",
      "text/plain": [
       "<Figure size 432x288 with 1 Axes>"
      ]
     },
     "metadata": {
      "needs_background": "light"
     },
     "output_type": "display_data"
    }
   ],
   "source": [
    "# Getting Significant Correlation for all counters for 12 months:\n",
    "# TODO plot correlations against month for all counters where p < 0.05\n",
    "print('Pearson for Rainfall')\n",
    "significant_r = []\n",
    "significant_counters = []\n",
    "significant_months = []\n",
    "month = [1,2,3,4,5,6,7,8,9,10,11,12]\n",
    "\n",
    "for counter in traffic_df[\"Counter ID\"].unique():\n",
    "        r, p, _ = get_pearson(month, [counter], 'Rainfall (mm)', weekend_only=False)\n",
    "        if p < 0.05:\n",
    "            significant_r.append(r)\n",
    "            significant_counters.append(counter)\n",
    "\n",
    "plt.scatter(significant_counters, significant_r)"
   ]
  },
  {
   "cell_type": "code",
   "execution_count": 30,
   "metadata": {},
   "outputs": [
    {
     "name": "stdout",
     "output_type": "stream",
     "text": [
      "Pearson for Temperature\n"
     ]
    },
    {
     "data": {
      "text/plain": [
       "<matplotlib.collections.PathCollection at 0x2c021ac5c08>"
      ]
     },
     "execution_count": 30,
     "metadata": {},
     "output_type": "execute_result"
    },
    {
     "data": {
      "image/png": "[encoded data removed]",
      "text/plain": [
       "<Figure size 432x288 with 1 Axes>"
      ]
     },
     "metadata": {
      "needs_background": "light"
     },
     "output_type": "display_data"
    }
   ],
   "source": [
    "# Getting Significant Correlation for all counters for 12 months:\n",
    "# TODO plot correlations against month for all counters where p < 0.05\n",
    "print('Pearson for Temperature')\n",
    "significant_r = []\n",
    "significant_counters = []\n",
    "significant_months = []\n",
    "month = [1,2,3,4,5,6,7,8,9,10,11,12]\n",
    "\n",
    "for counter in traffic_df[\"Counter ID\"].unique():\n",
    "        r, p, _ = get_pearson(month, [counter], 'MaxApparentTemp (degC)', weekend_only=False)\n",
    "        if p < 0.05:\n",
    "            significant_r.append(r)\n",
    "            significant_counters.append(counter)\n",
    "\n",
    "plt.scatter(significant_counters, significant_r)"
   ]
  },
  {
   "cell_type": "code",
   "execution_count": 31,
   "metadata": {},
   "outputs": [
    {
     "name": "stdout",
     "output_type": "stream",
     "text": [
      "Pearson for Rainfall\n"
     ]
    },
    {
     "data": {
      "text/plain": [
       "<matplotlib.collections.PathCollection at 0x2c021b31648>"
      ]
     },
     "execution_count": 31,
     "metadata": {},
     "output_type": "execute_result"
    },
    {
     "data": {
      "image/png": "[encoded data removed]",
      "text/plain": [
       "<Figure size 432x288 with 1 Axes>"
      ]
     },
     "metadata": {
      "needs_background": "light"
     },
     "output_type": "display_data"
    }
   ],
   "source": [
    "# TODO plot correlations against month for all counters where p < 0.05\n",
    "print('Pearson for Rainfall')\n",
    "significant_r = []\n",
    "significant_counters = []\n",
    "significant_months = []\n",
    "\n",
    "for counter in traffic_df[\"Counter ID\"].unique():\n",
    "    for month in range(0, 24):\n",
    "        r, p, _ = get_pearson_new('Weekday', [month], [counter], 'Rainfall (mm)', weekend_only=True)\n",
    "        if p < 0.05:\n",
    "            significant_r.append(r)\n",
    "            significant_counters.append(counter)\n",
    "            significant_months.append(month)\n",
    "\n",
    "plt.scatter(significant_months, significant_r)"
   ]
  },
  {
   "cell_type": "markdown",
   "metadata": {},
   "source": [
    "---\n",
    "## Step 3: Investigate other correlations\n",
    "\n",
    "**Tasks:**\n",
    "- Extend `get_pearson_ to accept a parameter which determines over what timescale (e.g. `month`, `weekday`, `hour`) correlations should be measured"
   ]
  },
  {
   "cell_type": "code",
   "execution_count": 24,
   "metadata": {},
   "outputs": [],
   "source": [
    "def get_pearson_new( timescale : str,\n",
    "    indices: List[int],\n",
    "    counters: List[int],\n",
    "    col_name: str,\n",
    "    weekend_only=False,\n",
    ") -> Tuple[float, float, pd.DataFrame]:\n",
    "    \"\"\"\n",
    "    Get Pearson's coefficient between traffic count and the specified weather variable\n",
    "    \n",
    "    Parameters\n",
    "    ----------\n",
    "    timescale : str\n",
    "    Month, Weekday, Hour : over which kind of time zone you want your data to be group by for correlation\n",
    "    index: list of ints\n",
    "        The index of the month (1-indexed), weekday or hours you want to calculate correlation on\n",
    "    counter: list of ints\n",
    "        The ID of the counter to track (0-indexed)\n",
    "    col_name: str\n",
    "        The name of the weather column to get the coefficient for\n",
    "    \"\"\"\n",
    "    # Filter traffic data on month, counters and potentially day of week\n",
    "    if timescale == 'Month' :\n",
    "        selected_df = traffic_df.loc[(traffic_df[\"Month\"].isin(indices)) & (traffic_df[\"Counter ID\"].isin(counters))]\n",
    "    if timescale == 'Weekday':\n",
    "        selected_df = traffic_df.loc[(traffic_df[\"Weekday\"].isin(indices)) & (traffic_df[\"Counter ID\"].isin(counters))]\n",
    "    if timescale == 'Hour':\n",
    "        selected_df = traffic_df.loc[(traffic_df[\"Hour\"].isin(indices)) & (traffic_df[\"Counter ID\"].isin(counters))]\n",
    "    if weekend_only:\n",
    "        selected_df = selected_df.loc[selected_df[\"Weekday\"].isin([4, 5, 6])]\n",
    "    \n",
    "    # TODO Sum the counts for all counters\n",
    "    aggregate_df = None\n",
    "    aggregate_df = pd.DataFrame()\n",
    "    aggregate_df = selected_df.groupby('Date').agg({'Counts': 'sum'})\n",
    "\n",
    "    # Merge weather and aggregated traffic data\n",
    "    combined_df = weather_df.merge(aggregate_df, on=\"Date\")\n",
    "    \n",
    "    # TODO Remove any rows with NaNs in weather feature column or traffic counts column\n",
    "    combined_df.dropna(subset=[col_name, 'Counts'], inplace=True)\n",
    "    \n",
    "    # TODO Get Pearson's coefficient\n",
    "    # Hint use `scipy.stats`\n",
    "    r, p = (None, None)\n",
    "    if len(combined_df) >= 2:\n",
    "        r, p = stats.pearsonr(combined_df[col_name], combined_df['Counts'])\n",
    "    else:\n",
    "        r = 0.0\n",
    "        p = 10.0\n",
    "\n",
    "    return r, p, combined_df"
   ]
  },
  {
   "cell_type": "markdown",
   "metadata": {},
   "source": [
    "---\n",
    "# Review"
   ]
  }
 ],
 "metadata": {
  "file_extension": ".py",
  "kernelspec": {
   "display_name": "Python 3",
   "language": "python",
   "name": "python3"
  },
  "language_info": {
   "codemirror_mode": {
    "name": "ipython",
    "version": 3
   },
   "file_extension": ".py",
   "mimetype": "text/x-python",
   "name": "python",
   "nbconvert_exporter": "python",
   "pygments_lexer": "ipython3",
   "version": "3.7.6"
  },
  "mimetype": "text/x-python",
  "name": "python",
  "npconvert_exporter": "python",
  "pygments_lexer": "ipython3",
  "version": 3
 },
 "nbformat": 4,
 "nbformat_minor": 4
}
